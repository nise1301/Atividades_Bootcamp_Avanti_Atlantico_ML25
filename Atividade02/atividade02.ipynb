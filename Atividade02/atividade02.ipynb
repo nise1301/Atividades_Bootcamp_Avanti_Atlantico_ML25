{
 "cells": [
  {
   "cell_type": "markdown",
   "metadata": {},
   "source": [
    "## Questão 01\n",
    "\n",
    "Escreva uma função que receba uma lista de números e retorne outra lista\n",
    "com os números ímpares.\n",
    "\n",
    "R:"
   ]
  },
  {
   "cell_type": "markdown",
   "metadata": {},
   "source": [
    "### 🔍 Função impares – Explicação Resumida\n",
    "\n",
    "Esta função retorna uma nova lista contendo **apenas os números ímpares** de uma lista original.\n",
    "\n",
    "📌 Critério matemático:\n",
    "> Um número é ímpar se o resto da divisão por 2 é diferente de zero  \n",
    "> (ou seja: `n % 2 != 0`)\n",
    "\n",
    "🔢 Lógica:\n",
    "- Percorre a lista original com um laço (`for n in lista`)\n",
    "- Testa se cada número `n` é ímpar usando `n % 2 != 0`\n",
    "- Se for, adiciona à nova lista\n",
    "\n",
    "💡 A função usa list comprehension para ser mais compacta e legível.\n"
   ]
  },
  {
   "cell_type": "markdown",
   "metadata": {},
   "source": [
    "### 🤓 Dica de estudante – Entendendo List Comprehension\n",
    "\n",
    "List comprehension é tipo uma **forma compacta de montar listas** em Python.  \n",
    "A gente deve pensar nela como uma frase do tipo:\n",
    "\n",
    "> “Pegue cada `n` da lista, **se** ele for ímpar, e **coloque numa nova lista**.”\n",
    "\n",
    "A sintaxe é:\n",
    "\n",
    "```python\n",
    "[n for n in lista if condição]\n",
    "\n",
    "[n for n in lista if n % 2 != 0]\n",
    "\n",
    "💬 Tradução:\n",
    "\n",
    "Para cada número n em lista, se n for ímpar, inclua n na nova lista.\n",
    "\n",
    "É mais curto que usar for e append, mas faz a mesma coisa.\n",
    "```\n"
   ]
  },
  {
   "cell_type": "code",
   "execution_count": 24,
   "metadata": {},
   "outputs": [],
   "source": [
    "lista = [1, 2, 3, 4, 5, 6, 7, 8, 9, 10]"
   ]
  },
  {
   "cell_type": "code",
   "execution_count": 25,
   "metadata": {},
   "outputs": [
    {
     "name": "stdout",
     "output_type": "stream",
     "text": [
      "[1, 3, 5, 7, 9]\n"
     ]
    }
   ],
   "source": [
    "def impares(lista):\n",
    "    return [n for n in lista if n%2 != 0 ]\n",
    "print(impares(lista))"
   ]
  },
  {
   "cell_type": "markdown",
   "metadata": {},
   "source": [
    "## Questão 02\n",
    "\n",
    "Escreva uma função que receba uma lista de números e retorne outra lista\n",
    "com os números primos presentes.\n"
   ]
  },
  {
   "cell_type": "markdown",
   "metadata": {},
   "source": [
    "### 🔍 Função encontrar_primos \n",
    "\n",
    "Esta função identifica números primos em uma lista com base na definição matemática:  \n",
    "> Um número primo é natural, maior que 1, e divisível apenas por 1 e ele mesmo.\n",
    "\n",
    "🔢 Lógica:\n",
    "- Ignora números ≤ 1 (não são primos).\n",
    "- Para cada número `n`, testa se há algum divisor exato entre 2 e `n - 1`.\n",
    "- Se encontrar divisor → não é primo.\n",
    "- Se não encontrar nenhum → é primo.\n",
    "\n",
    "💡 A verificação `n % i == 0` identifica se `n` é divisível por `i`.  \n",
    "Se nenhum divisor for encontrado, `n` é adicionado à lista final.\n"
   ]
  },
  {
   "cell_type": "code",
   "execution_count": 26,
   "metadata": {},
   "outputs": [],
   "source": [
    "lista1 = [1, 2, 3, 4, 5, 6, 7, 8, 9, 10]"
   ]
  },
  {
   "cell_type": "code",
   "execution_count": 27,
   "metadata": {},
   "outputs": [],
   "source": [
    "def encontrar_primos(lista1):\n",
    "    primos = [ ]\n",
    "    for n in lista1:\n",
    "        if n <= 1:\n",
    "            print(f\"{n} é menor ou igual a 1, então não é primo\")\n",
    "            continue\n",
    "        for i in range(2,n):\n",
    "            if n%i==0:\n",
    "                print(f\"{n} não é primo por que é divisivel por {i}\")\n",
    "                break\n",
    "        else:\n",
    "            primos.append(n)\n",
    "            print(f\"{n} é primo\")\n",
    "    return primos\n",
    "            "
   ]
  },
  {
   "cell_type": "code",
   "execution_count": 28,
   "metadata": {},
   "outputs": [
    {
     "name": "stdout",
     "output_type": "stream",
     "text": [
      "1 é menor ou igual a 1, então não é primo\n",
      "2 é primo\n",
      "3 é primo\n",
      "4 não é primo por que é divisivel por 2\n",
      "5 é primo\n",
      "6 não é primo por que é divisivel por 2\n",
      "7 é primo\n",
      "8 não é primo por que é divisivel por 2\n",
      "9 não é primo por que é divisivel por 3\n",
      "10 não é primo por que é divisivel por 2\n",
      "Os primos da lista1 são: [2, 3, 5, 7]\n"
     ]
    }
   ],
   "source": [
    "print(f\"Os primos da lista1 são: {encontrar_primos(lista1)}\")"
   ]
  },
  {
   "cell_type": "markdown",
   "metadata": {},
   "source": []
  }
 ],
 "metadata": {
  "kernelspec": {
   "display_name": "Python 3",
   "language": "python",
   "name": "python3"
  },
  "language_info": {
   "codemirror_mode": {
    "name": "ipython",
    "version": 3
   },
   "file_extension": ".py",
   "mimetype": "text/x-python",
   "name": "python",
   "nbconvert_exporter": "python",
   "pygments_lexer": "ipython3",
   "version": "3.13.1"
  }
 },
 "nbformat": 4,
 "nbformat_minor": 2
}
