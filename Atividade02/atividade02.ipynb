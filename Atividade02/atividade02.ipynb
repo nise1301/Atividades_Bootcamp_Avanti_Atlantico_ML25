{
 "cells": [
  {
   "cell_type": "markdown",
   "metadata": {},
   "source": [
    "## Questão 01\n",
    "\n",
    "Escreva uma função que receba uma lista de números e retorne outra lista\n",
    "com os números ímpares."
   ]
  },
  {
   "cell_type": "markdown",
   "metadata": {},
   "source": [
    "### 🔍 Função impares – Explicação Resumida\n",
    "\n",
    "Esta função retorna uma nova lista contendo **apenas os números ímpares** de uma lista original.\n",
    "\n",
    "📌 Critério matemático:\n",
    "> Um número é ímpar se o resto da divisão por 2 é diferente de zero  \n",
    "> (ou seja: `n % 2 != 0`)\n",
    "\n",
    "🔢 Lógica:\n",
    "- Percorre a lista original com um laço (`for n in lista`)\n",
    "- Testa se cada número `n` é ímpar usando `n % 2 != 0`\n",
    "- Se for, adiciona à nova lista\n",
    "\n",
    "💡 A função usa list comprehension para ser mais compacta e legível.\n"
   ]
  },
  {
   "cell_type": "markdown",
   "metadata": {},
   "source": [
    "### 🤓 Dica de estudante – Entendendo List Comprehension\n",
    "\n",
    "List comprehension é tipo uma **forma compacta de montar listas** em Python.  \n",
    "A gente deve pensar nela como uma frase do tipo:\n",
    "\n",
    "> “Pegue cada `n` da lista, **se** ele for ímpar, e **coloque numa nova lista**.”\n",
    "\n",
    "A sintaxe é:\n",
    "\n",
    "```python\n",
    "[n for n in lista if condição]\n",
    "\n",
    "[n for n in lista if n % 2 != 0]\n",
    "\n",
    "💬 Tradução:\n",
    "\n",
    "Para cada número n em lista, se n for ímpar, inclua n na nova lista.\n",
    "\n",
    "É mais curto que usar for e append, mas faz a mesma coisa.\n",
    "```\n"
   ]
  },
  {
   "cell_type": "code",
   "execution_count": 105,
   "metadata": {},
   "outputs": [],
   "source": [
    "lista = [1, 2, 3, 4, 5, 6, 7, 8, 9, 10]"
   ]
  },
  {
   "cell_type": "code",
   "execution_count": 106,
   "metadata": {},
   "outputs": [
    {
     "name": "stdout",
     "output_type": "stream",
     "text": [
      "[1, 3, 5, 7, 9]\n"
     ]
    }
   ],
   "source": [
    "def impares(lista):\n",
    "    return [n for n in lista if n%2 != 0 ]\n",
    "print(impares(lista))"
   ]
  },
  {
   "cell_type": "markdown",
   "metadata": {},
   "source": [
    "## Questão 02\n",
    "\n",
    "Escreva uma função que receba uma lista de números e retorne outra lista\n",
    "com os números primos presentes.\n"
   ]
  },
  {
   "cell_type": "markdown",
   "metadata": {},
   "source": [
    "### 🔍 Função encontrar_primos \n",
    "\n",
    "Esta função identifica números primos em uma lista com base na definição matemática:  \n",
    "> Um número primo é natural, maior que 1, e divisível apenas por 1 e ele mesmo.\n",
    "\n",
    "🔢 Lógica:\n",
    "- Ignora números ≤ 1 (não são primos).\n",
    "- Para cada número `n`, testa se há algum divisor exato entre 2 e `n - 1`.\n",
    "- Se encontrar divisor → não é primo.\n",
    "- Se não encontrar nenhum → é primo.\n",
    "\n",
    "💡 A verificação `n % i == 0` identifica se `n` é divisível por `i`.  \n",
    "Se nenhum divisor for encontrado, `n` é adicionado à lista final.\n"
   ]
  },
  {
   "cell_type": "code",
   "execution_count": 107,
   "metadata": {},
   "outputs": [],
   "source": [
    "lista1 = [1, 2, 3, 4, 5, 6, 7, 8, 9, 10]"
   ]
  },
  {
   "cell_type": "code",
   "execution_count": 108,
   "metadata": {},
   "outputs": [],
   "source": [
    "def encontrar_primos(lista1):\n",
    "    primos = [ ]\n",
    "    for n in lista1:\n",
    "        if n <= 1:\n",
    "            print(f\"{n} é menor ou igual a 1, então não é primo\")\n",
    "            continue\n",
    "        for i in range(2,n):\n",
    "            if n%i==0:\n",
    "                print(f\"{n} não é primo por que é divisivel por {i}\")\n",
    "                break\n",
    "        else:\n",
    "            primos.append(n)\n",
    "            print(f\"{n} é primo\")\n",
    "    return primos\n",
    "            "
   ]
  },
  {
   "cell_type": "code",
   "execution_count": 109,
   "metadata": {},
   "outputs": [
    {
     "name": "stdout",
     "output_type": "stream",
     "text": [
      "1 é menor ou igual a 1, então não é primo\n",
      "2 é primo\n",
      "3 é primo\n",
      "4 não é primo por que é divisivel por 2\n",
      "5 é primo\n",
      "6 não é primo por que é divisivel por 2\n",
      "7 é primo\n",
      "8 não é primo por que é divisivel por 2\n",
      "9 não é primo por que é divisivel por 3\n",
      "10 não é primo por que é divisivel por 2\n",
      "Os primos da lista1 são: [2, 3, 5, 7]\n"
     ]
    }
   ],
   "source": [
    "print(f\"Os primos da lista1 são: {encontrar_primos(lista1)}\")"
   ]
  },
  {
   "cell_type": "markdown",
   "metadata": {},
   "source": [
    "## Questão 3\n",
    "\n",
    "Escreva uma função que receba duas listas e retorne outra lista com os\n",
    "elementos que estão presentes em apenas uma das listas.\n"
   ]
  },
  {
   "cell_type": "markdown",
   "metadata": {},
   "source": [
    "### 🧠 Diferença Simétrica entre Conjuntos: o que está **só em uma das listas**\n",
    "\n",
    "Este problema pode ser entendido com base na teoria dos conjuntos.\n",
    "\n",
    "Se temos dois conjuntos \\( A \\) e \\( B \\), a operação que retorna os elementos que pertencem **a um OU ao outro, mas não aos dois**, é chamada de **diferença simétrica**, representada por:\n",
    "\n",
    "\\[\n",
    "A \\triangle B = (A - B) \\cup (B - A)\n",
    "\\]\n",
    "\n",
    "Ou seja:\n",
    "- **\\( A - B \\)** → elementos que estão em A e **não** estão em B\n",
    "- **\\( B - A \\)** → elementos que estão em B e **não** estão em A\n",
    "- O resultado é a **união** desses dois subconjuntos\n",
    "\n",
    "💡 Em lógica, isso equivale a uma **disjunção exclusiva** (ou-exclusivo):\n",
    "> \"Inclua o elemento **somente se** ele estiver **em uma das listas**, mas **não nas duas**\"\n",
    "\n",
    "---\n",
    "\n",
    "### 🧮 Estratégia prática:\n",
    "\n",
    "1. Filtrar os elementos de `lista1` que **não estão** em `lista2`\n",
    "2. Filtrar os elementos de `lista2` que **não estão** em `lista1`\n",
    "3. Juntar os dois resultados\n",
    "\n",
    "---\n"
   ]
  },
  {
   "cell_type": "code",
   "execution_count": 110,
   "metadata": {},
   "outputs": [
    {
     "name": "stdout",
     "output_type": "stream",
     "text": [
      "A lista resultante é: [7, 5, 1]\n"
     ]
    }
   ],
   "source": [
    "lista2 = [3,2,6,4,7,9]\n",
    "\n",
    "lista3 = [3,2,4,6,5,1,9]\n",
    "\n",
    "def retornar_lista(lista2,lista3):\n",
    "    resultado = [n for n in lista2 if n not in lista3]\n",
    "    resultado += [n for n in lista3 if n not in lista2]\n",
    "    return resultado\n",
    "\n",
    "print(f\"A lista resultante é: {retornar_lista(lista2, lista3)}\")\n"
   ]
  },
  {
   "cell_type": "markdown",
   "metadata": {},
   "source": [
    "## Questão 4. \n",
    "\n",
    "Dada uma lista de números inteiros, escreva uma função para encontrar o segundo maior valor na lista.\n"
   ]
  },
  {
   "cell_type": "markdown",
   "metadata": {},
   "source": [
    "### 🔍 Encontrar o segundo maior valor \n",
    "\n",
    "Buscamos o **segundo maior valor distinto** de uma lista de inteiros usando uma abordagem simples\n",
    "\n",
    "### 🧠 Estratégia:\n",
    "\n",
    "1. **Ordenar** a lista do maior para o menor (sem modificar a original).\n",
    "2. O primeiro elemento da lista ordenada será o **maior valor**.\n",
    "3. Percorremos a lista até encontrar o primeiro número que seja **menor que o maior** — esse será o **segundo maior distinto**.\n",
    "\n",
    "### 📚 O que faz `sorted(lista, reverse=True)`?\n",
    "\n",
    "O método `sorted()` é uma função embutida do Python que:\n",
    "- Retorna uma **nova lista ordenada** (sem alterar a lista original)\n",
    "- Pode ordenar em ordem crescente (`default`) ou decrescente (`reverse=True`)\n",
    "\n",
    "Isso cria uma nova lista com os números do maior para o menor, o que facilita encontrar o segundo valor distinto logo no início.\n"
   ]
  },
  {
   "cell_type": "code",
   "execution_count": 111,
   "metadata": {},
   "outputs": [
    {
     "name": "stdout",
     "output_type": "stream",
     "text": [
      "O segundo maior número da lista4 é: 9\n"
     ]
    }
   ],
   "source": [
    "lista4 = [1,2,3,4,5,6,7,8,9,10]\n",
    "\n",
    "def encontar_segundo_maior(lista4):\n",
    "    ordenada = sorted(lista4,reverse=True)\n",
    "    for n in ordenada:\n",
    "        if n < ordenada[0]:\n",
    "            return n\n",
    "print(f\"O segundo maior número da lista4 é: {encontar_segundo_maior(lista4)}\")"
   ]
  },
  {
   "cell_type": "markdown",
   "metadata": {},
   "source": [
    "## Questão 5\n",
    "\n",
    "Crie uma função que receba uma lista de tuplas, cada uma contendo o\n",
    "nome e a idade de uma pessoa, e retorne a lista ordenada pelo nome das\n",
    "pessoas em ordem alfabética."
   ]
  },
  {
   "cell_type": "markdown",
   "metadata": {},
   "source": [
    "### 🔍 Uso de `lambda` na ordenação de uma lista de tuplas\n",
    "\n",
    "Aqui temos uma lista de tuplas onde cada tupla contém o nome e a idade de uma pessoa.\n",
    "O objetivo é ordenar essa lista pelo nome, ou seja, pelo primeiro elemento de cada tupla. Para evitar um código imenso, resolvi usar a função lambda\n",
    "\n",
    "🧠 O que é lambda?\n",
    "lambda é uma forma de definir uma função anônima, útil para expressar pequenas lógicas diretamente dentro de outra função.\n",
    "\n",
    "Exemplo:\n",
    "\n",
    "\n",
    "lambda pessoa: pessoa[0]\n",
    "\n",
    "💬 Tradução:\n",
    "\n",
    "“Receba uma tupla chamada pessoa e retorne o primeiro item dela (o nome).”\n",
    "\n",
    "\n"
   ]
  },
  {
   "cell_type": "markdown",
   "metadata": {},
   "source": [
    "### 🧰 Aplicando no sorted:\n",
    "\n",
    "Usamos lambda junto ao parâmetro key da função sorted, que define qual critério usar na ordenação\n",
    "\n",
    "🔁 Isso diz ao Python:\n",
    "\n",
    "“Ordene a lista de tuplas usando o nome como critério.”\n",
    "\n",
    "✅ Por que usar lambda aqui?\n",
    "\n",
    "Evita a necessidade de criar uma função separada só para extrair o nome.\n",
    "\n",
    "Deixa o critério de ordenação expresso diretamente no lugar onde ele é aplicado.\n",
    "\n",
    "Torna o código mais limpo e direto, especialmente para quem já entende a estrutura da tupla.\n"
   ]
  },
  {
   "cell_type": "code",
   "execution_count": 112,
   "metadata": {},
   "outputs": [],
   "source": [
    "def ordenar_por_nome(lista):\n",
    "    return sorted(lista, key=lambda pessoa: pessoa[0])"
   ]
  },
  {
   "cell_type": "code",
   "execution_count": 113,
   "metadata": {},
   "outputs": [
    {
     "name": "stdout",
     "output_type": "stream",
     "text": [
      "[('Amanda', 26), ('Denise', 31), ('Sandra', 67)]\n"
     ]
    }
   ],
   "source": [
    "pessoas = [(\"Denise\", 31), (\"Sandra\", 67), (\"Amanda\", 26)]\n",
    "ordenadas = ordenar_por_nome(pessoas)\n",
    "\n",
    "print(ordenadas)\n"
   ]
  },
  {
   "cell_type": "markdown",
   "metadata": {},
   "source": [
    "## Questão 6\n",
    "\n",
    "Observe os espaços sublinhados e complete o código."
   ]
  },
  {
   "cell_type": "code",
   "execution_count": 114,
   "metadata": {},
   "outputs": [
    {
     "name": "stdout",
     "output_type": "stream",
     "text": [
      "Requirement already satisfied: matplotlib in c:\\users\\nise_\\appdata\\local\\programs\\python\\python313\\lib\\site-packages (3.10.1)\n",
      "Requirement already satisfied: contourpy>=1.0.1 in c:\\users\\nise_\\appdata\\local\\programs\\python\\python313\\lib\\site-packages (from matplotlib) (1.3.1)\n",
      "Requirement already satisfied: cycler>=0.10 in c:\\users\\nise_\\appdata\\local\\programs\\python\\python313\\lib\\site-packages (from matplotlib) (0.12.1)\n",
      "Requirement already satisfied: fonttools>=4.22.0 in c:\\users\\nise_\\appdata\\local\\programs\\python\\python313\\lib\\site-packages (from matplotlib) (4.56.0)\n",
      "Requirement already satisfied: kiwisolver>=1.3.1 in c:\\users\\nise_\\appdata\\local\\programs\\python\\python313\\lib\\site-packages (from matplotlib) (1.4.8)\n",
      "Requirement already satisfied: numpy>=1.23 in c:\\users\\nise_\\appdata\\local\\programs\\python\\python313\\lib\\site-packages (from matplotlib) (2.2.4)\n",
      "Requirement already satisfied: packaging>=20.0 in c:\\users\\nise_\\appdata\\roaming\\python\\python313\\site-packages (from matplotlib) (24.2)\n",
      "Requirement already satisfied: pillow>=8 in c:\\users\\nise_\\appdata\\local\\programs\\python\\python313\\lib\\site-packages (from matplotlib) (11.1.0)\n",
      "Requirement already satisfied: pyparsing>=2.3.1 in c:\\users\\nise_\\appdata\\local\\programs\\python\\python313\\lib\\site-packages (from matplotlib) (3.2.3)\n",
      "Requirement already satisfied: python-dateutil>=2.7 in c:\\users\\nise_\\appdata\\roaming\\python\\python313\\site-packages (from matplotlib) (2.9.0.post0)\n",
      "Requirement already satisfied: six>=1.5 in c:\\users\\nise_\\appdata\\roaming\\python\\python313\\site-packages (from python-dateutil>=2.7->matplotlib) (1.17.0)\n",
      "Note: you may need to restart the kernel to use updated packages.\n"
     ]
    },
    {
     "name": "stderr",
     "output_type": "stream",
     "text": [
      "\n",
      "[notice] A new release of pip is available: 24.3.1 -> 25.0.1\n",
      "[notice] To update, run: python.exe -m pip install --upgrade pip\n"
     ]
    },
    {
     "name": "stdout",
     "output_type": "stream",
     "text": [
      "Requirement already satisfied: numpy in c:\\users\\nise_\\appdata\\local\\programs\\python\\python313\\lib\\site-packages (2.2.4)\n",
      "Note: you may need to restart the kernel to use updated packages.\n"
     ]
    },
    {
     "name": "stderr",
     "output_type": "stream",
     "text": [
      "\n",
      "[notice] A new release of pip is available: 24.3.1 -> 25.0.1\n",
      "[notice] To update, run: python.exe -m pip install --upgrade pip\n"
     ]
    }
   ],
   "source": [
    "%pip install matplotlib\n",
    "%pip install numpy"
   ]
  },
  {
   "cell_type": "markdown",
   "metadata": {},
   "source": [
    "import __________.pyplot as plt\n",
    "import numpy as ___\n",
    "\n",
    "fig, axs = plt.subplots(ncols=2, nrows=2, figsize=(5.5, 3.5), layout=\"constrained\")\n",
    "\n",
    "for ___ in range(2):\n",
    "    for ___ in range(2):\n",
    "        axs[row, col].annotate(\n",
    "            f'axs[{row}, {col}]',\n",
    "            (0.5, 0.5),\n",
    "            transform=axs[row, col].transAxes,\n",
    "            ha='center',\n",
    "            va='center',\n",
    "            ________=18,\n",
    "            color='darkgrey'\n",
    "        )\n",
    "\n",
    "fig.suptitle('___.subplots()')\n"
   ]
  },
  {
   "cell_type": "code",
   "execution_count": 115,
   "metadata": {},
   "outputs": [
    {
     "data": {
      "text/plain": [
       "Text(0.5, 0.98, 'plt.subplots()')"
      ]
     },
     "execution_count": 115,
     "metadata": {},
     "output_type": "execute_result"
    },
    {
     "data": {
      "image/png": "[encoded data removed]",
      "text/plain": [
       "<Figure size 550x350 with 4 Axes>"
      ]
     },
     "metadata": {},
     "output_type": "display_data"
    }
   ],
   "source": [
    "### Resposta:\n",
    "\n",
    "import matplotlib.pyplot as plt\n",
    "import numpy as np\n",
    "\n",
    "fig, axs = plt.subplots(ncols=2, nrows=2, figsize=(5.5, 3.5), layout=\"constrained\")\n",
    "\n",
    "for row in range(2):\n",
    "    for col in range(2):\n",
    "        axs[row, col].annotate(\n",
    "            f'axs[{row}, {col}]',\n",
    "            (0.5, 0.5),\n",
    "            transform=axs[row, col].transAxes,\n",
    "            ha='center',\n",
    "            va='center',\n",
    "            fontsize=18,\n",
    "            color='darkgrey'\n",
    "        )\n",
    "\n",
    "fig.suptitle('plt.subplots()')\n"
   ]
  },
  {
   "cell_type": "markdown",
   "metadata": {},
   "source": [
    "## Questão 7\n",
    "\n",
    "7. Observe os espaços sublinhados e complete o código\n"
   ]
  },
  {
   "cell_type": "markdown",
   "metadata": {},
   "source": [
    "import numpy as np\n",
    "import ____________ as mpl\n",
    "import ____________.______ as plt\n",
    "\n",
    "x = np.__________(-2 * np.pi, 2 * np.pi, 100)\n",
    "y = np.____(x)\n",
    "\n",
    "__, __ = plt.subplots()\n",
    "ax.____(_, _)\n"
   ]
  },
  {
   "cell_type": "code",
   "execution_count": 116,
   "metadata": {},
   "outputs": [
    {
     "data": {
      "text/plain": [
       "[<matplotlib.lines.Line2D at 0x1ae4b718cd0>]"
      ]
     },
     "execution_count": 116,
     "metadata": {},
     "output_type": "execute_result"
    },
    {
     "data": {
      "image/png": "[encoded data removed]",
      "text/plain": [
       "<Figure size 640x480 with 1 Axes>"
      ]
     },
     "metadata": {},
     "output_type": "display_data"
    }
   ],
   "source": [
    "### Resposta\n",
    "\n",
    "import numpy as np\n",
    "import matplotlib as mpl\n",
    "import matplotlib.pyplot as plt\n",
    "\n",
    "x = np.linspace(-2 * np.pi, 2 * np.pi, 100)\n",
    "y = np.sin(x)\n",
    "\n",
    "fig, ax = plt.subplots()\n",
    "ax.plot(x, y)\n"
   ]
  },
  {
   "cell_type": "markdown",
   "metadata": {},
   "source": [
    "### 🔍 Explicando `np.linspace` e `plt.subplots`\n",
    "\n",
    "#### 🧮 `np.linspace(start, stop, num)`\n",
    "\n",
    "Essa função cria um **vetor com `num` valores igualmente espaçados** entre `start` e `stop`.\n",
    "\n",
    "No exemplo:\n",
    "\n",
    "```python\n",
    "x = np.linspace(-2 * np.pi, 2 * np.pi, 100)\n",
    "\n",
    "Gera 100 valores de -2π até 2π\n",
    "\n",
    "Ideal para construir gráficos suaves de funções matemáticas (como seno e cosseno)\n",
    "\n",
    "📊 plt.subplots()\n",
    "Essa função cria uma figura (fig) e um ou mais eixos (ax) para desenhar gráficos. Aquin em:\n",
    "\n",
    "fig, ax = plt.subplots()\n",
    "\n",
    "fig é o contêiner da figura (pode usar fig.suptitle(), salvar imagem etc)\n",
    "\n",
    "ax é o espaço onde você desenha com ax.plot(), ax.set_title(), etc."
   ]
  }
 ],
 "metadata": {
  "kernelspec": {
   "display_name": "Python 3",
   "language": "python",
   "name": "python3"
  },
  "language_info": {
   "codemirror_mode": {
    "name": "ipython",
    "version": 3
   },
   "file_extension": ".py",
   "mimetype": "text/x-python",
   "name": "python",
   "nbconvert_exporter": "python",
   "pygments_lexer": "ipython3",
   "version": "3.13.1"
  }
 },
 "nbformat": 4,
 "nbformat_minor": 2
}
