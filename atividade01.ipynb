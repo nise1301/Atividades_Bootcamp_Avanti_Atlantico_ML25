{
 "cells": [
  {
   "cell_type": "markdown",
   "metadata": {},
   "source": [
    "# Atividade01\n",
    "\n",
    "### 1. Explique, com suas palavras, o que é machine learning?\n",
    "Machine Learning significa Aprendizado de Máquina, mas diferente da aprendizagem humana, que deriva de experiências subjetivas, o aprendizado de máquina consiste em técnicas que permitem que algoritmos sejam treinados com dados para fazer previsões e tomar decisões estratégicas. Esses algoritmos passam a identificar padrões por conta própria com base nos cenários que já viram anteriormente. Essa área da inteligência artificial é especialmente útil para automatizar tarefas repetitivas, liberando profissionais para focarem em atividades mais criativas e estratégicas, onde os humanos têm mais vantagens.\n",
    "\n",
    "### 2. Explique o conceito de conjunto de treinamento, conjunto de validação e conjunto de teste em machine learning.\n",
    "Um conjunto de treinamento é utilizado para que o modelo de machine learning aprenda a partir dos dados fornecidos. O conjunto de validação serve para ajustar parâmetros e garantir que o modelo não fique excessivamente ajustado (overfitting) nem pouco ajustado (underfitting). O conjunto de teste é usado no fim do processo para verificar o desempenho real do modelo, avaliando sua capacidade de generalizar com dados novos, que ele ainda não viu. É fundamental separar claramente esses conjuntos antes de treinar qualquer modelo de ML, garantindo resultados mais confiáveis e realistas.\n",
    "\n",
    "###  3. Explique como você lidaria com dados ausentes em um conjunto de dados de treinamento.\n",
    "A maneira de lidar com dados faltantes depende bastante do contexto do negócio. Existem casos em que pode-se simplesmente eliminar os registros faltantes, enquanto em outros pode ser necessário utilizar técnicas estatísticas, como média, moda ou mediana, para substituir esses valores. Em situações mais complexas, pode ser útil utilizar modelos específicos de machine learning para prever e inserir dados que fazem sentido dentro da lógica do negócio.\n",
    "### 4. O que é uma matriz de confusão e como ela é usada para avaliar o desempenho de um modelo preditivo?\n",
    "\n",
    "Uma matriz de confusão é uma ferramenta que ajuda na avaliação de desempenho dos modelos preditivos. Ela classifica os resultados obtidos em quatro categorias: verdadeiros positivos, verdadeiros negativos, falsos positivos e falsos negativos. Assim, conseguimos visualizar claramente quais previsões estão certas ou erradas, permitindo identificar problemas específicos no modelo e melhorar seu desempenho. A matriz auxilia o cientista de dados a visualizar com clareza onde estão os problemas nas previsões para que possa ajustar o modelo, a fim de evitar overfitting (modelo sobreajustado, incapaz de generalizações) e underfitting ( modelo subajustado, que não encontra relações entre valores, sendo incapazes de capturar padrões complexos).\n",
    "\n",
    "### 5. Em quais áreas (tais como construção civil, agricultura, saúde, manufatura,\n",
    "### entre outras) você acha mais interessante aplicar algoritmos de machinelearning?\n",
    "Estamos em um momento em que modelos de IA como GPT e Deepseek ganharam destaque e despertaram grande interesse em várias áreas. Entretanto, muitas empresas, especialmente as pequenas e médias, ainda não possuem políticas claras para tratamento dos dados coletados, sejam de vendas, saúde ou feedback de consumidores. Um bom tratamento e organização desses dados é essencial para construir modelos eficazes de machine learning. Nesse contexto, acredito que o uso de ML na rotina de analistas e cientistas de dados pode trazer grandes benefícios, especialmente na automação de tarefas repetitivas, demoradas e cansativas, como limpeza e preparação dos dados. Ao adotar modelos inteligentes para simplificar esses processos, podemos melhorar significativamente a qualidade dos dados, tornando as decisões empresariais mais precisas, otimizando recursos e estimulando o crescimento sustentável das empresas.\n"
   ]
  }
 ],
 "metadata": {
  "kernelspec": {
   "display_name": "Python 3",
   "language": "python",
   "name": "python3"
  },
  "language_info": {
   "codemirror_mode": {
    "name": "ipython",
    "version": 3
   },
   "file_extension": ".py",
   "mimetype": "text/x-python",
   "name": "python",
   "nbconvert_exporter": "python",
   "pygments_lexer": "ipython3",
   "version": "3.11.9"
  }
 },
 "nbformat": 4,
 "nbformat_minor": 2
}
