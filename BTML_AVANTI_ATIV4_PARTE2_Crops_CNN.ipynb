{
  "nbformat": 4,
  "nbformat_minor": 0,
  "metadata": {
    "colab": {
      "provenance": [],
      "toc_visible": true
    },
    "kernelspec": {
      "name": "python3",
      "display_name": "Python 3"
    },
    "language_info": {
      "name": "python"
    }
  },
  "cells": [
    {
      "cell_type": "markdown",
      "source": [
        "##⚡Importação das Bibliotecas\n",
        "\n",
        "O clássico \"setup do projeto\", onde a gente importa todos os pacotes que vai usar mais pra frente."
      ],
      "metadata": {
        "id": "MjH_GvMaSow5"
      }
    },
    {
      "cell_type": "code",
      "execution_count": null,
      "metadata": {
        "id": "0o-QEzPsRp8J"
      },
      "outputs": [],
      "source": [
        "import os\n",
        "import pandas as pd\n",
        "import numpy as np\n",
        "import random\n",
        "import shutil\n",
        "from shutil import copyfile\n",
        "import tensorflow as tf\n",
        "from tensorflow.keras.preprocessing.image import ImageDataGenerator\n",
        "import matplotlib.pyplot as plt\n",
        "import matplotlib.image as mpimg\n",
        "from matplotlib.offsetbox import (TextArea, DrawingArea, OffsetImage,\n",
        "                                  AnnotationBbox)\n",
        "import matplotlib.patches as mpatches"
      ]
    },
    {
      "cell_type": "markdown",
      "source": [
        "##⚠️ Observação sobre o uso do dataset\n",
        "\n",
        "Existem duas formas de acessar o dataset:\n",
        "\n",
        "✅ Via opendatasets: Ideal para Google Colab. Permite baixar diretamente do Kaggle com od.download(url) — é necessário fornecer suas credenciais do Kaggle (usuário + API key).\n",
        "\n",
        "🔒 Via caminho local (ex: /kaggle/input/...): Funciona apenas dentro dos notebooks do Kaggle, pois os dados já estão incluídos no ambiente e não precisam ser baixados manualmente.\n",
        "\n",
        "➕ Use opendatasets no Colab ou Jupyter local.\n",
        "➖ Use caminho local apenas se estiver rodando o notebook dentro da plataforma Kaggle.\n",
        "\n",
        "Nesse exemplo, os autores usaram o caminho direto do Kaggle, mas quando NÓS fizermos isso no colab, precisamos importar com o opendatasets✌"
      ],
      "metadata": {
        "id": "HXUg8rqIUCY7"
      }
    },
    {
      "cell_type": "code",
      "source": [
        "base_dir  = '/kaggle/input/agricultural-crops-image-classification/Agricultural-crops/'\n",
        "os.chdir(base_dir)"
      ],
      "metadata": {
        "id": "rOySGT-jS-C7"
      },
      "execution_count": null,
      "outputs": []
    },
    {
      "cell_type": "markdown",
      "source": [
        "## 🗂️ Inspeção Inicial das Classes do Dataset\n",
        "\n",
        "* Detecta todas as pastas no diretório base (cada uma representa uma classe).\n",
        "\n",
        "* Conta quantas imagens existem em cada classe.\n",
        "\n",
        "* Armazena os nomes das classes e a primeira imagem de cada uma pra uso posterior.\n",
        "\n",
        "* Organiza tudo num DataFrame do pandas, ordenando pela quantidade de imagens por classe.\n",
        "\n",
        "💡 Isso é útil pra identificar se o dataset está balanceado ou se há classes com muito mais imagens que outras (desequilíbrio de classes)."
      ],
      "metadata": {
        "id": "Iv9eDyoNUx0h"
      }
    },
    {
      "cell_type": "code",
      "source": [
        "# to list every directory name (label name)\n",
        "directories_list = tf.io.gfile.listdir(base_dir)\n",
        "\n",
        "# get number of labels\n",
        "len_labels = len(directories_list)\n",
        "print(f\"Total Class Labels = {len_labels}\")\n",
        "\n",
        "vis_images = []; vis_labels =[]\n",
        "length_file_list = []; label_list = []\n",
        "\n",
        "for item in directories_list:\n",
        "\n",
        "    # get each label directory\n",
        "    item_dir = os.path.join(base_dir, item)\n",
        "    # get list of images of each label\n",
        "    item_files = os.listdir(item)\n",
        "    # number of images per label\n",
        "    len_per_label = len(os.listdir(item))\n",
        "\n",
        "    length_file_list.append(len_per_label)\n",
        "    label_list.append(item)\n",
        "\n",
        "    # get first image of each label (for visualisation purpose)\n",
        "    vis_images.append(os.path.join(item_dir, item_files[0]))\n",
        "    # get respective label name (for visualisation purpose)\n",
        "    vis_labels.append(item)\n",
        "\n",
        "df_temp = pd.DataFrame({'Labels':label_list, 'Number of Images':length_file_list}).\\\n",
        "sort_values(by='Number of Images', ascending=False)\n",
        "df_temp"
      ],
      "metadata": {
        "id": "zjItxFW-W-yW"
      },
      "execution_count": null,
      "outputs": []
    },
    {
      "cell_type": "markdown",
      "source": [
        " 🖼️ Visualizando uma Imagem de Cada Classe\n",
        "\n",
        " Visualização das primeiras imagens do dataset, uma pra cada classe.\n",
        "\n",
        " * Cria uma figura com subplots organizados em grade para exibir uma imagem de cada classe.\n",
        "\n",
        "* Usa as listas vis_images e vis_labels (criadas lá atrás) pra carregar a primeira imagem representativa de cada categoria.\n",
        "\n",
        "* Remove ticks dos eixos, adiciona o rótulo de cada imagem e um título geral.\n",
        "\n",
        "👀 Isso é ótimo pra ter uma visualização rápida da variedade de classes e garantir que os dados estão organizados corretamente.\n",
        "\n",
        "🧠 Também ajuda a identificar possíveis problemas como rótulos trocados, imagens em branco, ou qualidade baixa de amostras."
      ],
      "metadata": {
        "id": "Wb0DcD2h-jXf"
      }
    },
    {
      "cell_type": "code",
      "source": [
        "plt.figure(figsize=(10,10))\n",
        "for i in range(len(vis_labels)):\n",
        "    plt.subplot(6,5,i+1)\n",
        "    plt.xticks([])\n",
        "    plt.yticks([])\n",
        "    plt.grid(False)\n",
        "    img = mpimg.imread(vis_images[i])\n",
        "    plt.imshow(img)\n",
        "    plt.xlabel(vis_labels[i])\n",
        "    plt.suptitle(f\"Classifying {len_labels} Types of Image Labels\",fontsize=18, fontweight='bold')\n",
        "plt.show()"
      ],
      "metadata": {
        "id": "uqDYsJHM-fM6"
      },
      "execution_count": null,
      "outputs": []
    },
    {
      "cell_type": "markdown",
      "source": [],
      "metadata": {
        "id": "rMySzVYf-e4Z"
      }
    },
    {
      "cell_type": "markdown",
      "source": [
        "## 🔀 Função para Dividir os Dados em Treino e Validação\n",
        "\n",
        " É um modo manual de dividir o dataset em treino e validação — e com uma vantagem extra: ela ignora arquivos corrompidos (com tamanho 0 bytes)e ignora eles! 🎯\n",
        "\n",
        "* Usa random.sample pra sortear uma fração dos arquivos (SPLIT_SIZE) pro treino.\n",
        "\n",
        "* Coloca o restante no conjunto de validação.\n",
        "\n",
        "* Copia os arquivos para os diretórios respectivos: TRAINING_DIR e VALIDATION_DIR.\n",
        "\n",
        "🔒 A semente aleatória (random.seed(42)) garante que a divisão seja reprodutível — ou seja, sempre vai gerar o mesmo resultado.\n",
        "\n",
        "💡 Essa abordagem funciona bem quando o dataset já está separado por pastas de classe, e você quer gerar divisões manuais sem usar ImageDataGenerator.flow_from_directory() ainda."
      ],
      "metadata": {
        "id": "NBaWj7cLnQke"
      }
    },
    {
      "cell_type": "code",
      "source": [
        "def split_data(SOURCE_DIR, TRAINING_DIR, VALIDATION_DIR, SPLIT_SIZE):\n",
        "\n",
        "    selected_file_names = []\n",
        "    all_file_names = os.listdir(SOURCE_DIR)\n",
        "    for file_name in all_file_names:\n",
        "        file_path = os.path.join(SOURCE_DIR, file_name)\n",
        "        size = os.path.getsize(file_path)\n",
        "        if size != 0:\n",
        "              selected_file_names.append(file_name)\n",
        "        else:\n",
        "              print(f\"{file_name} is zero length, so ignoring.\")\n",
        "\n",
        "    random.seed(42)\n",
        "    selected_train_files = random.sample(selected_file_names, int(SPLIT_SIZE * len(selected_file_names)))\n",
        "    selected_val_files = [x for x in selected_file_names if x not in selected_train_files]\n",
        "\n",
        "    for file_name in selected_train_files:\n",
        "        source = os.path.join(SOURCE_DIR, file_name)\n",
        "        destination = os.path.join(TRAINING_DIR, file_name)\n",
        "        copyfile(source, destination)\n",
        "\n",
        "    for file_name in selected_val_files:\n",
        "        source = os.path.join(SOURCE_DIR, file_name)\n",
        "        destination = os.path.join(VALIDATION_DIR, file_name)\n",
        "        copyfile(source, destination)"
      ],
      "metadata": {
        "id": "oidF3dzznow2"
      },
      "execution_count": null,
      "outputs": []
    },
    {
      "cell_type": "markdown",
      "source": [
        "## 🗂️ Função para Criar Pastas de Treino e Validação Organizadas por Classe\n",
        "\n",
        "Essa função é como o “modo automático” pra preparar as pastinhas de treino e validação pra cada classe. Ela organiza tudo bonitinho e ainda chama a função split_data().\n",
        "\n",
        "* Percorre cada classe (cada pasta dentro do dataset).\n",
        "\n",
        "* Cria pastas específicas pra treino e validação, organizadas assim:\n",
        "\n",
        "    * root_path/_MODELLING/training/<classe>/\n",
        "    * root_path/_MODELLING/validation/<classe>/\n",
        "\n",
        "* Chama a função split_data() pra distribuir as imagens entre treino e validação, com o split_size definido (padrão = 90% treino, 10% validação).\n",
        "\n",
        "🧹 Antes de rodar essa função, certifique-se de que os diretórios _MODELLING/training e validation não existem ainda, senão o os.makedirs() pode lançar erro.\n",
        "\n",
        "💡 Muito útil pra deixar os dados prontos pra ImageDataGenerator.flow_from_directory(), que espera justamente essa estrutura por pastas."
      ],
      "metadata": {
        "id": "FHkxLsSdsdd_"
      }
    },
    {
      "cell_type": "code",
      "source": [
        "def create_train_val_dirs(root_path, split_size = 0.9):\n",
        "    for item in directories_list:\n",
        "        source_dir = os.path.join(base_dir, item)\n",
        "        training_dir = os.path.join(root_path, f'_MODELLING/training/{item}')\n",
        "        validation_dir = os.path.join(root_path, f'_MODELLING/validation/{item}')\n",
        "\n",
        "        # Create EMPTY directory\n",
        "        os.makedirs(training_dir)\n",
        "        os.makedirs(validation_dir)\n",
        "\n",
        "        split_data(source_dir, training_dir, validation_dir, split_size)\n",
        "    print(f\"Created training and validation directories containing images at split size of {split_size}\")"
      ],
      "metadata": {
        "id": "JfTDZMWqtLoC"
      },
      "execution_count": null,
      "outputs": []
    },
    {
      "cell_type": "markdown",
      "source": [
        "## 🚧 Criando as Pastas com os Dados de Treino e Validação\n",
        "\n",
        "* Executa a função create_train_val_dirs() que:\n",
        "\n",
        "* Cria as pastas para treino e validação.\n",
        "\n",
        "* Copia as imagens da pasta original (base_dir) para as novas pastas organizadas por classe.\n",
        "\n",
        "* Divide os dados com 90% para treino e 10% para validação (split_size = 0.9).\n",
        "\n",
        "📂 As imagens ficarão organizadas em\n",
        "* /kaggle/working/_MODELLING/training/ e\n",
        "* /kaggle/working/_MODELLING/validation/, prontos pra serem lidos por geradores de imagens.\n",
        "\n",
        "⚠️ Essa célula pode demorar um pouco dependendo do tamanho do dataset, já que ela está copiando arquivos de forma individual."
      ],
      "metadata": {
        "id": "LXykB5TrtO-e"
      }
    },
    {
      "cell_type": "code",
      "source": [
        "create_train_val_dirs('/kaggle/working', split_size = 0.9)"
      ],
      "metadata": {
        "id": "NEh9osQ9ty-I"
      },
      "execution_count": null,
      "outputs": []
    },
    {
      "cell_type": "markdown",
      "source": [
        "## 🖼️ Visualização de Data Augmentation com ImageDataGenerator\n",
        "\n",
        "✨ Ela demonstra como o ImageDataGenerator transforma (aumenta) as imagens de forma automática, usando técnicas de data augmentation.🎨\n",
        "\n",
        "* Carrega uma imagem de uma classe específica.\n",
        "\n",
        "* Aplica quatro tipos diferentes de transformação usando o ImageDataGenerator:\n",
        "\n",
        "* Rotação da imagem\n",
        "\n",
        "* Deslocamento horizontal\n",
        "\n",
        "* Zoom in/out\n",
        "\n",
        "* Espelhamento horizontal\n",
        "\n",
        "* Exibe 3 variações da imagem para cada tipo de transformação.\n",
        "\n",
        "🔁 Isso ajuda o modelo a generalizar melhor, pois ele \"vê\" diferentes versões de uma mesma imagem durante o treino.\n",
        "\n",
        "🧪 Ideal pra verificar se o augmentation está funcionando como esperado antes de aplicar no pipeline de treinamento."
      ],
      "metadata": {
        "id": "cP4mdI7Wt3NE"
      }
    },
    {
      "cell_type": "code",
      "source": [
        "def show_ImageDataGenerator(vis_images, vis_labels, image_index):\n",
        "    #Loads image in from the set image path\n",
        "    class_label = vis_labels[image_index]\n",
        "    img = tf.keras.preprocessing.image.load_img(vis_images[image_index], target_size= (250,250))\n",
        "    img_tensor = tf.keras.preprocessing.image.img_to_array(img)\n",
        "    img_tensor = np.expand_dims(img_tensor, axis=0)\n",
        "\n",
        "    #Creates our batch of one image\n",
        "    def show_image(datagen, param):\n",
        "        pic = datagen.flow(img_tensor, batch_size =1)\n",
        "        plt.figure(figsize=(10,3.5))\n",
        "        #Plots our figures\n",
        "        for i in range(1,4):\n",
        "            plt.subplot(1, 3, i)\n",
        "            batch = pic.next()\n",
        "            image_ = batch[0].astype('uint8')\n",
        "            plt.imshow(image_)\n",
        "        plt.suptitle(f\"Class: {class_label} \\n Image Generator ({param})\",fontsize=18, fontweight='bold')\n",
        "\n",
        "        plt.show()\n",
        "\n",
        "    datagen = ImageDataGenerator(rotation_range=30)\n",
        "    show_image(datagen, \"rotation_range=30\")\n",
        "\n",
        "    datagen = ImageDataGenerator(width_shift_range=0.2)\n",
        "    show_image(datagen, \"width_shift_range=0.2\")\n",
        "\n",
        "    datagen = ImageDataGenerator(zoom_range=0.2)\n",
        "    show_image(datagen, \"zoom_range=0.2\")\n",
        "\n",
        "    datagen = ImageDataGenerator(horizontal_flip=True)\n",
        "    show_image(datagen, \"horizontal_flip=True\")\n",
        "\n",
        "show_ImageDataGenerator(vis_images, vis_labels, image_index = 0)"
      ],
      "metadata": {
        "id": "BB-KUCNsuyFU"
      },
      "execution_count": null,
      "outputs": []
    },
    {
      "cell_type": "markdown",
      "source": [
        "## 🔄 Aplicando Data Augmentation em Outra Imagem\n",
        "\n",
        "* Executa novamente a função show_ImageDataGenerator, agora usando a quarta imagem (índice 3) da lista vis_images.\n",
        "\n",
        "* Exibe as transformações de data augmentation (rotação, deslocamento, zoom e espelhamento) aplicadas a essa nova imagem.\n",
        "\n",
        "🎯 Isso serve pra explorar como o ImageDataGenerator afeta diferentes tipos de imagem no dataset — uma ótima prática pra garantir que as transformações estão mantendo a coerência visual das classes."
      ],
      "metadata": {
        "id": "3INNICgwu0OP"
      }
    },
    {
      "cell_type": "code",
      "source": [
        "show_ImageDataGenerator(vis_images, vis_labels, image_index = 3)"
      ],
      "metadata": {
        "id": "Mn8T9MdRvR73"
      },
      "execution_count": null,
      "outputs": []
    },
    {
      "cell_type": "markdown",
      "source": [
        "## 🔄 Função para Criar os Geradores de Imagem (Treino e Validação)\n",
        "\n",
        "Aqui definimos uma função super importante: criar os geradores de imagem para treino e validação, com data augmentation no treino e normalização simples na validação.\n",
        "\n",
        "* Cria dois ImageDataGenerator:\n",
        "\n",
        "* Um com várias transformações (rotação, deslocamento, zoom, flip) para aumentar a variedade no conjunto de treino.\n",
        "\n",
        "* Outro apenas com rescale=1./255 para normalizar as imagens de validação.\n",
        "\n",
        "* Usa flow_from_directory() para gerar batches de imagens automaticamente a partir da estrutura de pastas:\n",
        "\n",
        "    *<TRAINING_DIR>/<classe1>/\n",
        "    *<TRAINING_DIR>/<classe2>/\n",
        "...\n",
        "* Retorna dois geradores que serão usados no model.fit() mais adiante.\n",
        "\n",
        "⚠️ Atenção: class_mode='binary' só funciona se houver duas classes. Se tiver mais, é melhor usar class_mode='categorical'.\n",
        "\n",
        "📐 target_size=(150, 150) define o tamanho para o qual todas as imagens serão redimensionadas."
      ],
      "metadata": {
        "id": "F_DH_JwOvWMb"
      }
    },
    {
      "cell_type": "code",
      "source": [
        "def train_val_generators(TRAINING_DIR, VALIDATION_DIR):\n",
        "\n",
        "    # Instantiate the ImageDataGenerator class (don't forget to set the arguments to augment the images)\n",
        "    train_datagen = ImageDataGenerator(rescale=1./255,\n",
        "                                     rotation_range=30,\n",
        "                                     width_shift_range=0.2,\n",
        "                                     height_shift_range=0.2,\n",
        "                                     shear_range=0.2,\n",
        "                                     zoom_range=0.2,\n",
        "                                     horizontal_flip=True,\n",
        "                                     fill_mode='nearest')\n",
        "\n",
        "    # Pass in the appropriate arguments to the flow_from_directory method\n",
        "    train_generator = train_datagen.flow_from_directory(directory=TRAINING_DIR,\n",
        "                                                      batch_size=32,\n",
        "                                                      class_mode='binary',\n",
        "                                                      target_size=(150, 150))\n",
        "\n",
        "    # Instantiate the ImageDataGenerator class (don't forget to set the rescale argument)\n",
        "    validation_datagen = ImageDataGenerator(rescale=1./255)\n",
        "\n",
        "    # Pass in the appropriate arguments to the flow_from_directory method\n",
        "    validation_generator = validation_datagen.flow_from_directory(directory=VALIDATION_DIR,\n",
        "                                                                batch_size=32,\n",
        "                                                                class_mode='binary',\n",
        "                                                                target_size=(150, 150))\n",
        "    return train_generator, validation_generator"
      ],
      "metadata": {
        "id": "-lpY3fQ1we7G"
      },
      "execution_count": null,
      "outputs": []
    },
    {
      "cell_type": "markdown",
      "source": [
        "## 📂 Definindo os Caminhos das Pastas de Treino e Validação\n",
        "\n",
        "* Usa os.path.join pra montar os caminhos completos das pastas de treino e validação dentro da pasta _MODELLING.\n",
        "\n",
        "* Imprime o caminho da pasta de validação para conferência.\n",
        "\n",
        "🔎 Isso garante que as próximas funções, como os geradores de imagem, saibam exatamente onde buscar os dados.\n",
        "\n",
        "✅ Se estiver rodando no Colab, substitua '/kaggle/working' por '/content'."
      ],
      "metadata": {
        "id": "wy2bJLTJwjSD"
      }
    },
    {
      "cell_type": "code",
      "source": [
        "training_dir = os.path.join('/kaggle/working', '_MODELLING', 'training')\n",
        "validation_dir = os.path.join('/kaggle/working', '_MODELLING', 'validation')\n",
        "\n",
        "print(validation_dir)"
      ],
      "metadata": {
        "id": "l1glJ6EbxLDm"
      },
      "execution_count": null,
      "outputs": []
    },
    {
      "cell_type": "markdown",
      "source": [
        "## 🧪 Gerando os Batches de Imagens para Treino e Validação\n",
        "\n",
        "* Chama a função train_val_generators() com os diretórios de treino e validação definidos anteriormente.\n",
        "\n",
        "* Cria dois objetos:\n",
        "\n",
        "    * train_generator: que aplica data augmentation e fornece imagens em lotes para o treino.\n",
        "\n",
        "    * validation_generator: que fornece imagens normalizadas para validação, sem transformação.\n",
        "\n",
        "📦 Esses geradores são ideais para uso com model.fit() porque entregam os dados em tempo real (sem precisar carregar tudo na memória).\n",
        "\n",
        "🧠 A partir daqui, já pode treinar modelos usando essas imagens em fluxo contínuo!"
      ],
      "metadata": {
        "id": "1TN2JCh6xMCp"
      }
    },
    {
      "cell_type": "code",
      "source": [
        "train_generator, validation_generator = train_val_generators(training_dir, validation_dir)"
      ],
      "metadata": {
        "id": "bFwDzcSnxmXs"
      },
      "execution_count": null,
      "outputs": []
    },
    {
      "cell_type": "markdown",
      "source": [
        "## 🧠 Definindo o Modelo 1 – CNN Simples do Zero\n",
        "\n",
        "Define o primeiro modelo de rede neural convolucional (CNN) do projeto — feito do zero, usando a API sequencial do Keras.\n",
        "\n",
        "Define uma CNN simples, com:\n",
        "\n",
        "* 2 camadas convolucionais + max pooling\n",
        "\n",
        "* Uma camada Flatten para transformar a imagem em vetor\n",
        "\n",
        "* Dropout de 50% para evitar overfitting\n",
        "\n",
        "* Uma camada densa de 1024 neurônios\n",
        "\n",
        "* Camada de saída softmax, com número de saídas igual ao total de classes (len_labels)\n",
        "\n",
        "📏 A entrada é uma imagem RGB de 150x150 pixels (input_shape=(150, 150, 3)).\n",
        "\n",
        "🧮 A função model_1.summary() exibe a arquitetura da rede com o total de parâmetros treináveis.\n",
        "\n",
        "⚠️ Como é uma softmax, esse modelo assume classificação multiclasse com classes mutuamente exclusivas."
      ],
      "metadata": {
        "id": "2MDzcWu_xobm"
      }
    },
    {
      "cell_type": "code",
      "source": [
        "model_1 = tf.keras.models.Sequential([\n",
        "    # Note the input shape is the desired size of the image 150x150 with 3 bytes color\n",
        "    # This is the first convolution\n",
        "    tf.keras.layers.Conv2D(64, (3,3), activation='relu', input_shape=(150, 150, 3)),\n",
        "    tf.keras.layers.MaxPooling2D(2, 2),\n",
        "    # The second convolution\n",
        "    tf.keras.layers.Conv2D(64, (3,3), activation='relu'),\n",
        "    tf.keras.layers.MaxPooling2D(2,2),\n",
        "    # Flatten the results to feed into a DNN\n",
        "    tf.keras.layers.Flatten(),\n",
        "    tf.keras.layers.Dropout(0.5),\n",
        "    # 512 neuron hidden layer\n",
        "    tf.keras.layers.Dense(1024, activation='relu'),\n",
        "    tf.keras.layers.Dense(len_labels, activation='softmax')\n",
        "])\n",
        "\n",
        "# Print the model summary\n",
        "model_1.summary()"
      ],
      "metadata": {
        "id": "PMeJA4lNyOEe"
      },
      "execution_count": null,
      "outputs": []
    },
    {
      "cell_type": "markdown",
      "source": [
        "## ⏹️ Callback para Parar o Treinamento com 80% de Acurácia\n",
        "\n",
        "Define um callback personalizado — um tipo de “vigia” que monitora o treino e interrompe automaticamente quando a acurácia chega a 80%. Super útil pra evitar overfitting e poupar tempo de computação.\n",
        "\n",
        "* Cria uma classe myCallback que herda de tf.keras.callbacks.Callback.\n",
        "\n",
        "* No final de cada época (on_epoch_end), ela checa a acurácia (logs['accuracy']).\n",
        "\n",
        "* Se a acurácia passar de 80%, ela:\n",
        "\n",
        "* Imprime uma mensagem no console;\n",
        "\n",
        "* Interrompe o treinamento com self.model.stop_training = True.\n",
        "\n",
        "🧠 Esse tipo de callback é útil quando você quer evitar que o modelo “continue treinando à toa” depois de atingir um desempenho satisfatório.\n",
        "\n",
        "⚠️ Funciona apenas se a métrica accuracy estiver sendo monitorada no model.compile()."
      ],
      "metadata": {
        "id": "pvtYtMb6yQOZ"
      }
    },
    {
      "cell_type": "code",
      "source": [
        "# Define a Callback class that stops training once accuracy reaches 80%\n",
        "class myCallback(tf.keras.callbacks.Callback):\n",
        "    def on_epoch_end(self, epoch, logs={}):\n",
        "        if(logs.get('accuracy')>0.8):\n",
        "            print(\"\\nReached 80% accuracy so cancelling training!\")\n",
        "            self.model.stop_training = True\n",
        "callbacks = myCallback()"
      ],
      "metadata": {
        "id": "rYdbL9AIy0-T"
      },
      "execution_count": null,
      "outputs": []
    },
    {
      "cell_type": "markdown",
      "source": [
        "## ⚙️ Compilando o Modelo 1 (CNN Simples)\n",
        "\n",
        "Aqui é onde o modelo CNN é compilado, ou seja, configurado com otimizador, função de perda e métrica antes de ser treinado.\n",
        "\n",
        "* Otimizador: Usa o Adam, um dos otimizadores mais eficientes e populares para deep learning.\n",
        "\n",
        "* Taxa de aprendizado (learning_rate=0.001) define o “tamanho do passo” durante o ajuste dos pesos.\n",
        "\n",
        "* Função de perda: sparse_categorical_crossentropy — ideal quando os rótulos das classes são números inteiros (ex: 0, 1, 2...) e não one-hot encoded.\n",
        "\n",
        "* Métrica: accuracy, para acompanhar a porcentagem de classificações corretas durante o treino e validação.\n",
        "\n",
        "🧠 Lembrando: sparse_categorical_crossentropy espera que os rótulos estejam em formato inteiro, diferente de categorical_crossentropy que exige one-hot (vetores binários)."
      ],
      "metadata": {
        "id": "PcZK2rhJy3Pf"
      }
    },
    {
      "cell_type": "code",
      "source": [
        "model_1.compile(optimizer = tf.keras.optimizers.Adam(learning_rate=0.001),\n",
        "            loss = 'sparse_categorical_crossentropy',\n",
        "            metrics=['accuracy'])"
      ],
      "metadata": {
        "id": "GvWD_prb1zSO"
      },
      "execution_count": null,
      "outputs": []
    },
    {
      "cell_type": "markdown",
      "source": [
        "## 🚀 Treinando o Modelo 1\n",
        "\n",
        "Agora iniciamos o treinamento do modelo usando os dados gerados pelas pastas e com o callback de parada automática ativado.\n",
        "\n",
        "Treina o model_1 usando:\n",
        "\n",
        "* train_generator: imagens com data augmentation.\n",
        "\n",
        "* validation_generator: imagens normalizadas (sem transformação).\n",
        "\n",
        "* Executa por até 20 épocas, mas pode parar antes se a acurácia de treino passar de 80%, graças ao callbacks=callbacks.\n",
        "\n",
        "* Armazena o histórico do treinamento (loss, accuracy etc) no objeto history_1.\n",
        "\n",
        "📈 Esse histórico pode ser usado depois pra gerar gráficos de desempenho com matplotlib.\n",
        "\n",
        "⏱️ O tempo de execução depende do tamanho do dataset e do modelo. Com ImageDataGenerator, as imagens são carregadas e transformadas em tempo real (ótimo pra memória!)."
      ],
      "metadata": {
        "id": "A0fFcBis13Fp"
      }
    },
    {
      "cell_type": "code",
      "source": [
        "history_1 = model_1.fit(train_generator,\n",
        "                    epochs=20,\n",
        "                    validation_data=validation_generator,\n",
        "                    callbacks=callbacks)"
      ],
      "metadata": {
        "id": "IRnzVjc1236g"
      },
      "execution_count": null,
      "outputs": []
    },
    {
      "cell_type": "markdown",
      "source": [
        "## 📊 Visualização da Performance do Modelo (Acurácia & Perda)\n",
        "\n",
        "Nessa célula, não só plotamos os gráficos de treino e validação, como ainda calculamos o gradiente (m) da curva, o que é ótimo pra entender se o modelo está melhorando de forma consistente.\n",
        "\n",
        "* Define uma função vis_evaluation() para:\n",
        "\n",
        "* Plotar dois gráficos lado a lado:\n",
        "\n",
        "* Acurácia de treino e validação\n",
        "\n",
        "* Perda (loss) de treino e validação\n",
        "\n",
        "* Calcular o gradiente da curva (m) — a taxa de variação da métrica ao longo das épocas (tipo: \"o quanto melhorou por época\").\n",
        "\n",
        "* Exibir essas informações visualmente com legendas e anotações automáticas nos gráficos.\n",
        "\n",
        "Depois:\n",
        "\n",
        "* Extrai o histórico salvo durante o model.fit() com history_1.history\n",
        "\n",
        "* Chama a função para visualizar os resultados do modelo 1 (CNN básica)\n",
        "\n",
        "📈 Esse tipo de visualização ajuda a identificar overfitting (ex: acurácia de treino sobe, mas a de validação não) ou underfitting (quando ambas são ruins).\n",
        "\n",
        "🧠 O gradiente (\"m\") mostra se o modelo está melhorando de forma consistente ou se estagnou."
      ],
      "metadata": {
        "id": "MuwWQKMN28YJ"
      }
    },
    {
      "cell_type": "code",
      "source": [
        "def vis_evaluation(history_dict, model_name):\n",
        "    fig, axs = plt.subplots(nrows=1, ncols=2, figsize=(15, 6))\n",
        "    epochs = range(1, len(history_dict['accuracy'])+1)\n",
        "\n",
        "    def get_gradient(y_arr, epochs):\n",
        "        return round((y_arr[-1] - y_arr[0]) / (epochs[-1] - epochs[0]),2)\n",
        "\n",
        "    def vis_sub_evaluation(n, Accuracy, train_acc, val_acc, epochs):\n",
        "        axs[n].plot(epochs, train_acc, label=f'Training {Accuracy}', ls='--')\n",
        "        axs[n].plot(epochs, val_acc, label=f'Validation {Accuracy}', ls='dotted')\n",
        "\n",
        "        axs[n].set_title(f'Training and Validation {Accuracy}')\n",
        "        axs[n].set_xlabel('Epochs')\n",
        "        axs[n].set_ylabel(Accuracy)\n",
        "\n",
        "        handles, labels = axs[n].get_legend_handles_labels()\n",
        "        m_patch = mpatches.Patch(color='grey',label='m: gradient')\n",
        "        handles.append(m_patch)\n",
        "        axs[n].legend(handles=handles)\n",
        "\n",
        "        def annotate_box(train_acc):\n",
        "            return AnnotationBbox(TextArea(f\"m = {get_gradient(train_acc, epochs)}\"), (epochs[-1], train_acc[-1]),\n",
        "                            xybox=(20, 20),\n",
        "                            xycoords='data',\n",
        "                            boxcoords=\"offset points\",\n",
        "                            arrowprops=dict(arrowstyle=\"->\"))\n",
        "        axs[n].add_artist(annotate_box(train_acc))\n",
        "        axs[n].add_artist(annotate_box(val_acc))\n",
        "\n",
        "    train_acc = history_dict['accuracy']\n",
        "    val_acc = history_dict['val_accuracy']\n",
        "    vis_sub_evaluation(0, 'Accuracy', train_acc, val_acc, epochs)\n",
        "\n",
        "    train_loss = history_dict['loss']\n",
        "    val_loss = history_dict['val_loss']\n",
        "    vis_sub_evaluation(1, 'Loss', train_loss, val_loss, epochs)\n",
        "\n",
        "    plt.suptitle(f\"Performance Evaluation of {model_name}\",fontsize=18, fontweight='bold')\n",
        "    plt.show()\n",
        "\n",
        "history_dict_1 = history_1.history\n",
        "vis_evaluation(history_dict_1, 'Basic CNN')"
      ],
      "metadata": {
        "id": "J61Ss3m93vuj"
      },
      "execution_count": null,
      "outputs": []
    },
    {
      "cell_type": "markdown",
      "source": [
        "## 🚀 Carregando a Base do Modelo Pré-Treinado (VGG16)\n",
        "\n",
        "Entramos no território do Transfer Learning com VGG16 — e essa célula prepara o modelo pré-treinado para ser usado como base na nossa rede.\n",
        "\n",
        "* Carrega a arquitetura VGG16 pré-treinada no ImageNet, sem o topo (as camadas densas finais): include_top=False.\n",
        "\n",
        "* Define que nenhuma camada do modelo será treinável (layer.trainable = False), ou seja, a rede será usada apenas como extratora de características visuais.\n",
        "\n",
        "* Conta e imprime o número total de parâmetros e quantos são treináveis (neste caso, deve dar zero treináveis).\n",
        "\n",
        "📦 Transfer Learning = usar o \"conhecimento visual\" de um modelo já treinado em um grande dataset (como ImageNet) e aplicar em outro problema.\n",
        "\n",
        "🔒 Congelar as camadas impede que os pesos da VGG sejam alterados — ótimo pra economizar tempo e evitar overfitting com datasets pequenos."
      ],
      "metadata": {
        "id": "SjgDKB3938I9"
      }
    },
    {
      "cell_type": "code",
      "source": [
        "from tensorflow.keras.applications import VGG16\n",
        "\n",
        "pre_trained_model = VGG16(include_top=False,weights='imagenet', input_shape=(150, 150, 3))\n",
        "for layer in pre_trained_model.layers:\n",
        "    layer.trainable = False\n",
        "\n",
        "total_params = pre_trained_model.count_params()\n",
        "num_trainable_params = sum([w.shape.num_elements() for w in pre_trained_model.trainable_weights])\n",
        "\n",
        "print(f\"There are {total_params:,} total parameters in this model.\")\n",
        "print(f\"There are {num_trainable_params:,} trainable parameters in this model.\")"
      ],
      "metadata": {
        "id": "V8dYHowv4YZl"
      },
      "execution_count": null,
      "outputs": []
    },
    {
      "cell_type": "markdown",
      "source": [
        "## 🔍 Explorando a Saída do Modelo Pré-Treinado\n",
        "\n",
        "Mostra como termina a VGG16 (a última camada convolucional) e confirma o tipo do objeto que foi carregado.\n",
        "\n",
        "* Armazena a última saída do modelo VGG16 congelado na variável last_output.\n",
        "\n",
        "* Essa saída é o que será usado como entrada para o \"topo personalizado\", que será adicionado na próxima etapa.\n",
        "\n",
        "* Imprime o tipo do objeto carregado (tensorflow.keras.Model), confirmando que ele é um modelo funcional do Keras.\n",
        "\n",
        "📐 A saída da VGG16 (sem o topo) é um tensor 3D com várias ativações (mapas de características) — isso alimentará as camadas densas que vêm a seguir.\n",
        "\n",
        "🔌 Esse last_output será conectado via Functional API ao novo \"topo\" que você vai construir."
      ],
      "metadata": {
        "id": "240DmXy34WmL"
      }
    },
    {
      "cell_type": "code",
      "source": [
        "last_output = pre_trained_model.output\n",
        "print('last layer output: ', last_output)\n",
        "\n",
        "# Print the type of the pre-trained model\n",
        "print(f\"The pretrained model has type: {type(pre_trained_model)}\")"
      ],
      "metadata": {
        "id": "3SiThPFb6C7O"
      },
      "execution_count": null,
      "outputs": []
    },
    {
      "cell_type": "markdown",
      "source": [
        "## 🧱 Construindo o Modelo Final com Transfer Learning\n",
        "\n",
        "Função que monta o modelo completo de Transfer Learning, usando a VGG16 congelada como base e adicionando um topo personalizado.\n",
        "\n",
        "* Achata (Flatten) a saída da VGG16 pra transformar os mapas de ativação num vetor 1D.\n",
        "\n",
        "* Adiciona:\n",
        "\n",
        "    * Uma camada densa com 1024 unidades e ReLU.\n",
        "\n",
        "    * Um dropout de 30% pra evitar overfitting.\n",
        "\n",
        "    * Uma camada final Dense com ativação softmax, com número de saídas igual ao total de classes (len_labels).\n",
        "\n",
        "* Cria um modelo final com a entrada original da VGG e a nova saída personalizada.\n",
        "\n",
        "⚙️ A função retorna o modelo completo, pronto pra compilar e treinar.\n",
        "\n",
        "🧠 Isso é o “melhor dos dois mundos”: aproveita o poder da VGG pra extrair padrões visuais e usa um classificador próprio pra sua tarefa."
      ],
      "metadata": {
        "id": "dK97KSoZ6SUP"
      }
    },
    {
      "cell_type": "code",
      "source": [
        "from tensorflow.keras import Model\n",
        "\n",
        "def transfer_learning(last_output, pre_trained_model):\n",
        "    # Flatten da saída da VGG\n",
        "    x = tf.keras.layers.Flatten()(last_output)\n",
        "    # Camada densa com 1024 neurônios e ativação ReLU\n",
        "    x = tf.keras.layers.Dense(1024, activation='relu')(x)\n",
        "    # Dropout para reduzir overfitting\n",
        "    x = tf.keras.layers.Dropout(0.3)(x)\n",
        "    # Camada de saída com softmax para classificação multiclasse\n",
        "    x = tf.keras.layers.Dense(len_labels, activation='softmax')(x)\n",
        "\n",
        "    # Modelo final unindo entrada da VGG16 e novo topo\n",
        "    model = Model(inputs=pre_trained_model.input, outputs=x)\n",
        "\n",
        "    return model\n"
      ],
      "metadata": {
        "id": "sCuY6SKa7llH"
      },
      "execution_count": null,
      "outputs": []
    },
    {
      "cell_type": "markdown",
      "source": [
        "## 🧬 Criando e Resumindo o Modelo com Transfer Learning (Modelo 2)\n",
        "\n",
        "O  modelo 2 está oficialmente criado! Essa célula chama a função que definimos e imprime o resumo da arquitetura completa — VGG16 como base + seu topo customizado.\n",
        "\n",
        "Chama a função transfer_learning() usando:\n",
        "\n",
        "* last_output: a saída da VGG16 (camadas convolucionais).\n",
        "\n",
        "* pre_trained_model: o modelo base congelado.\n",
        "\n",
        "Gera um modelo completo (model_2) com a entrada da VGG16 e uma nova \"cabeça\" de classificação.\n",
        "\n",
        "Exibe um resumo com:\n",
        "\n",
        "* Quantidade de camadas\n",
        "\n",
        "* Formato das saídas\n",
        "\n",
        "* Total de parâmetros\n",
        "\n",
        "* Quantos são treináveis (neste caso, só as camadas do topo)\n",
        "\n",
        "📌 As camadas da VGG16 estão congeladas (não treináveis), então só o “topo” é atualizado durante o treinamento.\n",
        "\n",
        "📈 Ideal pra quando você quer boas representações visuais sem precisar treinar uma CNN do zero — especialmente útil com datasets pequenos."
      ],
      "metadata": {
        "id": "Hqfjt9j_614c"
      }
    },
    {
      "cell_type": "code",
      "source": [
        "model_2 = transfer_learning(last_output, pre_trained_model)\n",
        "model_2.summary()"
      ],
      "metadata": {
        "id": "9V4dJAI47vr5"
      },
      "execution_count": null,
      "outputs": []
    },
    {
      "cell_type": "markdown",
      "source": [
        "## ⚙️ Compilando o Modelo 2 (Transfer Learning com VGG16)\n",
        "\n",
        "Agora o modelo 2 (com VGG16) está sendo preparado pro combate! ⚔️\n",
        "Essa célula faz a mesma etapa de compilação que foi feita no modelo 1, só que agora aplicada ao modelo de Transfer Learning.\n",
        "\n",
        "* Usa o otimizador Adam, com taxa de aprendizado de 0.001.\n",
        "\n",
        "* Define a função de perda como sparse_categorical_crossentropy, já que os rótulos são inteiros.\n",
        "\n",
        "* Monitora a acurácia como métrica principal.\n",
        "\n",
        "✅ Mesmo padrão de compilação usado no modelo 1 — assim a comparação entre eles será justa.\n",
        "\n",
        "🧠 Lembra que só as camadas do “topo” do modelo são treináveis aqui, então o treinamento deve ser mais rápido e menos propenso a overfitting."
      ],
      "metadata": {
        "id": "Kh7qYxFv7xXy"
      }
    },
    {
      "cell_type": "code",
      "source": [
        "model_2.compile(optimizer = tf.keras.optimizers.Adam(learning_rate=0.001),\n",
        "            loss = 'sparse_categorical_crossentropy',\n",
        "            metrics=['accuracy'])"
      ],
      "metadata": {
        "id": "i7MFyIqZ8N7u"
      },
      "execution_count": null,
      "outputs": []
    },
    {
      "cell_type": "markdown",
      "source": [
        "## 🚀 Treinando o Modelo 2 (Transfer Learning com VGG16)\n",
        "\n",
        "🧠🔥Essa célula dá o start oficial no treinamento do modelo 2, agora usando a arquitetura VGG16 como base com o seu topo customizado. E ainda com o callback de parada automática ativado!\n",
        "\n",
        "* Inicia o treinamento do model_2, que usa a VGG16 como extratora de características e um topo denso customizado como classificador.\n",
        "\n",
        "* Treina por até 20 épocas, mas pode parar antes automaticamente se atingir 80% de acurácia (graças ao callbacks).\n",
        "\n",
        "* Usa os mesmos geradores train_generator e validation_generator definidos anteriormente.\n",
        "\n",
        "* Armazena o histórico do treinamento no objeto history_2.\n",
        "\n",
        "⚡ Como só o topo do modelo é treinável, esse modelo costuma treinar mais rápido e atingir boa performance com menos épocas.\n",
        "\n",
        "📊 Esse histórico será usado na próxima etapa para comparar os dois modelos visualmente."
      ],
      "metadata": {
        "id": "qbcg-NFU8PZR"
      }
    },
    {
      "cell_type": "code",
      "source": [
        "history_2 = model_2.fit(train_generator,\n",
        "                    validation_data = validation_generator,\n",
        "                    epochs = 20,\n",
        "                    callbacks=callbacks)"
      ],
      "metadata": {
        "id": "PJYYxzMa8rwu"
      },
      "execution_count": null,
      "outputs": []
    },
    {
      "cell_type": "markdown",
      "source": [
        "## 📊 Visualização da Performance do Modelo 2 (Transfer Learning)\n",
        "\n",
        "Fechamos com chave de ouro o ciclo de treinamento do modelo 2 — ela visualiza o desempenho do modelo baseado em VGG16, do mesmo jeitinho que fez com o modelo 1 🌟\n",
        "\n",
        "* Extrai o histórico do treinamento (history_2.history) e armazena no dicionário history_dict_2.\n",
        "\n",
        "* Chama a função vis_evaluation() para gerar:\n",
        "\n",
        "* Gráfico de acurácia (treino x validação)\n",
        "\n",
        "* Gráfico de perda (loss) (treino x validação)\n",
        "\n",
        "* Com anotações automáticas mostrando o gradiente de melhoria (“m”).\n",
        "\n",
        "📈 Isso permite comparar visualmente a performance do modelo 2 com o modelo 1, e verificar qual teve melhor generalização, menor perda e estabilidade nas curvas.\n",
        "\n",
        "🧠 Uma curva de validação mais estável e com menor perda geralmente indica menos overfitting — ponto forte dos modelos com Transfer Learning."
      ],
      "metadata": {
        "id": "UX7IjqMR8tkI"
      }
    },
    {
      "cell_type": "code",
      "source": [
        "history_dict_2 = history_2.history\n",
        "vis_evaluation(history_dict_2, 'Transfer Learning')"
      ],
      "metadata": {
        "id": "4ClP0hCy9NqD"
      },
      "execution_count": null,
      "outputs": []
    }
  ]
}